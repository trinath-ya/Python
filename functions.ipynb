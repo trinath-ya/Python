{
 "cells": [
  {
   "cell_type": "code",
   "execution_count": 1,
   "metadata": {},
   "outputs": [
    {
     "ename": "SyntaxError",
     "evalue": "invalid syntax (<ipython-input-1-48fc84d3d561>, line 2)",
     "output_type": "error",
     "traceback": [
      "\u001b[0;36m  File \u001b[0;32m\"<ipython-input-1-48fc84d3d561>\"\u001b[0;36m, line \u001b[0;32m2\u001b[0m\n\u001b[0;31m    print \"a=%s\", b=%s\"%(a,b)\u001b[0m\n\u001b[0m                   ^\u001b[0m\n\u001b[0;31mSyntaxError\u001b[0m\u001b[0;31m:\u001b[0m invalid syntax\n"
     ]
    }
   ],
   "source": [
    "def fun(a,b):\n",
    "    print \"a=%s\", b=%s\"%(a,b)\n",
    "    c=a+b\n",
    "    d=a-b\n",
    "    "
   ]
  },
  {
   "cell_type": "code",
   "execution_count": 5,
   "metadata": {},
   "outputs": [],
   "source": [
    "def fun(a,b):\n",
    "    print \"%s+%s=%s\" % (a,b,a+b)\n",
    "    fun(10,20)\n",
    "    fun(1000,2000)"
   ]
  },
  {
   "cell_type": "code",
   "execution_count": 10,
   "metadata": {},
   "outputs": [
    {
     "name": "stdout",
     "output_type": "stream",
     "text": [
      "10+20+30+40+50=150\n"
     ]
    }
   ],
   "source": [
    "#default arguments (if we need to call multiple arguments with single function)\n",
    "def fun(a,b=0,c=0,d=0,e=0):\n",
    "    \"\"\"\n",
    "    add the given elements\n",
    "    mandatory: a\n",
    "    optional prrams: b,c,d,e\n",
    "    type: a,b,c,d,e: int, float\n",
    "    \"\"\"\n",
    "    print \"%s+%s+%s+%s+%s=%s\" % (a,b,c,d,e,a+b+c+d+e)\n",
    "fun(10,20,30,40,50)"
   ]
  },
  {
   "cell_type": "code",
   "execution_count": 9,
   "metadata": {},
   "outputs": [
    {
     "name": "stdout",
     "output_type": "stream",
     "text": [
      "10\n",
      "20\n",
      "10x20x1x1x1=200\n",
      "10x20x1x1x1=200\n",
      "2x3x4x5x1=120\n",
      "10x20x30x40x50=12000000\n"
     ]
    }
   ],
   "source": [
    "def fun(a,b=1,c=1,d=1,e=1):\n",
    "    print \"%sx%sx%sx%sx%s=%s\" % (a,b,c,d,e,a*b*c*d*e)\n",
    "a=int(raw_input())\n",
    "b=int(raw_input())\n",
    "fun(a,b)\n",
    "fun(10,20)\n",
    "fun(2,3,4,5)\n",
    "fun(10,20,30,40,50)"
   ]
  },
  {
   "cell_type": "code",
   "execution_count": 13,
   "metadata": {},
   "outputs": [
    {
     "ename": "SyntaxError",
     "evalue": "invalid syntax (<ipython-input-13-22d57d42e328>, line 1)",
     "output_type": "error",
     "traceback": [
      "\u001b[0;36m  File \u001b[0;32m\"<ipython-input-13-22d57d42e328>\"\u001b[0;36m, line \u001b[0;32m1\u001b[0m\n\u001b[0;31m    def fun(a,b,c=1,d=1,c=1,f=1)\u001b[0m\n\u001b[0m                                ^\u001b[0m\n\u001b[0;31mSyntaxError\u001b[0m\u001b[0;31m:\u001b[0m invalid syntax\n"
     ]
    }
   ],
   "source": [
    "def fun(a,b,c=1,d=1,c=1,f=1)\n",
    "print \"%sx%sx%sx%sx%sx%s=%s\"%(a,b,c,d,e,f,a*b*c*d*e*f)\n",
    "fun(10,20)\n"
   ]
  },
  {
   "cell_type": "code",
   "execution_count": 39,
   "metadata": {},
   "outputs": [
    {
     "name": "stdout",
     "output_type": "stream",
     "text": [
      "\n",
      "    Name: anil\n",
      "    DOB: 2018-10-1989\n",
      "    DOJ: 2018-10-1997\n",
      "    PAN: ADFADFA\n",
      "    Passport: None\n",
      "    Aadhar: None\n",
      "    Marrital Status: s\n",
      "    \n",
      "\n",
      "    Name: Tri\n",
      "    DOB: 2018-10-1989\n",
      "    DOJ: 2018-10-1997\n",
      "    PAN: ADFADFA\n",
      "    Passport: passport\n",
      "    Aadhar: None\n",
      "    Marrital Status: s\n",
      "    \n",
      "\n",
      "    Name: Tri\n",
      "    DOB: 2018-10-1989\n",
      "    DOJ: 2018-10-1997\n",
      "    PAN: ADFADFA\n",
      "    Passport: passport\n",
      "    Aadhar: None\n",
      "    Marrital Status: M\n",
      "    \n",
      "\n",
      "    Name: Tri\n",
      "    DOB: 2018-10-1989\n",
      "    DOJ: 2018-10-1997\n",
      "    PAN: ADFADFA\n",
      "    Passport: passport\n",
      "    Aadhar: None\n",
      "    Marrital Status: M\n",
      "    \n"
     ]
    }
   ],
   "source": [
    "def reg_person(name,doj,dob,pan,passport=None,aadhar=None,marital_status=\"s\"):\n",
    "    print \"\"\"\n",
    "    Name: %s\n",
    "    DOB: %s\n",
    "    DOJ: %s\n",
    "    PAN: %s\n",
    "    Passport: %s\n",
    "    Aadhar: %s\n",
    "    Marrital Status: %s\n",
    "    \"\"\"%(name, doj, dob, pan, passport, aadhar, marital_status)\n",
    "reg_person(\"anil\",\"2018-10-1989\",\"2018-10-1997\",\"ADFADFA\")\n",
    "reg_person(\"Tri\",\"2018-10-1989\",\"2018-10-1997\",\"ADFADFA\",\"passport\")\n",
    "reg_person(\"Tri\",\"2018-10-1989\",\"2018-10-1997\",\"ADFADFA\",\"passport\",None,\"M\")\n",
    "reg_person(\"Tri\",\"2018-10-1989\",\"2018-10-1997\",\"ADFADFA\",\"passport\",marital_status=\"M\")"
   ]
  },
  {
   "cell_type": "code",
   "execution_count": 41,
   "metadata": {},
   "outputs": [
    {
     "name": "stdout",
     "output_type": "stream",
     "text": [
      "\n",
      "    Name: Tri\n",
      "    DOB: 2018-10-1989\n",
      "    DOJ: 2018-10-1997\n",
      "    PAN: ADSFADSF\n",
      "    Passport: passport\n",
      "    Aadhar: ADFADFA\n",
      "    Marrital Status: M\n",
      "    \n"
     ]
    }
   ],
   "source": [
    "def reg_person(name,doj,dob,pan,passport=None,aadhar=None,marital_status=\"s\"):\n",
    "    print \"\"\"\n",
    "    Name: %s\n",
    "    DOB: %s\n",
    "    DOJ: %s\n",
    "    PAN: %s\n",
    "    Passport: %s\n",
    "    Aadhar: %s\n",
    "    Marrital Status: %s\n",
    "    \"\"\"%(name, doj, dob, pan, passport, aadhar, marital_status)\n",
    "reg_person(name=\"Tri\",doj=\"2018-10-1989\",dob=\"2018-10-1997\",pan=\"ADSFADSF\",aadhar=\"ADFADFA\",passport=\"passport\",marital_status=\"M\")"
   ]
  },
  {
   "cell_type": "code",
   "execution_count": null,
   "metadata": {},
   "outputs": [],
   "source": []
  }
 ],
 "metadata": {
  "kernelspec": {
   "display_name": "Python 2",
   "language": "python",
   "name": "python2"
  },
  "language_info": {
   "codemirror_mode": {
    "name": "ipython",
    "version": 2
   },
   "file_extension": ".py",
   "mimetype": "text/x-python",
   "name": "python",
   "nbconvert_exporter": "python",
   "pygments_lexer": "ipython2",
   "version": "2.7.15"
  }
 },
 "nbformat": 4,
 "nbformat_minor": 2
}
