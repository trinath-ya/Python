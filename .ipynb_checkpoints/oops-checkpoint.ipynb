{
 "cells": [
  {
   "cell_type": "code",
   "execution_count": 1,
   "metadata": {},
   "outputs": [
    {
     "name": "stdout",
     "output_type": "stream",
     "text": [
      "this is class\n"
     ]
    }
   ],
   "source": [
    "def fun():\n",
    "    print \"this is fun\"\n",
    "class Emp:\n",
    "    print \"this is class\""
   ]
  },
  {
   "cell_type": "code",
   "execution_count": 4,
   "metadata": {},
   "outputs": [
    {
     "name": "stdout",
     "output_type": "stream",
     "text": [
      "Kyaathi\n",
      "vanam\n"
     ]
    }
   ],
   "source": [
    "class Emp:\n",
    "    company_name=\"Kyaathi\"\n",
    "    company_address=\"vanam\"\n",
    "    print company_name\n",
    "    print company_address"
   ]
  },
  {
   "cell_type": "code",
   "execution_count": 6,
   "metadata": {},
   "outputs": [
    {
     "ename": "NameError",
     "evalue": "name 'company_name' is not defined",
     "output_type": "error",
     "traceback": [
      "\u001b[0;31m---------------------------------------------------------------------------\u001b[0m",
      "\u001b[0;31mNameError\u001b[0m                                 Traceback (most recent call last)",
      "\u001b[0;32m<ipython-input-6-3ee5aa6b188c>\u001b[0m in \u001b[0;36m<module>\u001b[0;34m()\u001b[0m\n\u001b[1;32m      2\u001b[0m     \u001b[0mcompany_name\u001b[0m\u001b[0;34m=\u001b[0m\u001b[0;34m\"Kyaathi\"\u001b[0m\u001b[0;34m\u001b[0m\u001b[0m\n\u001b[1;32m      3\u001b[0m     \u001b[0mcompany_address\u001b[0m\u001b[0;34m=\u001b[0m\u001b[0;34m\"vanam\"\u001b[0m\u001b[0;34m\u001b[0m\u001b[0m\n\u001b[0;32m----> 4\u001b[0;31m \u001b[0;32mprint\u001b[0m \u001b[0mcompany_name\u001b[0m\u001b[0;34m\u001b[0m\u001b[0m\n\u001b[0m\u001b[1;32m      5\u001b[0m \u001b[0;32mprint\u001b[0m \u001b[0mcompany_address\u001b[0m\u001b[0;34m\u001b[0m\u001b[0m\n",
      "\u001b[0;31mNameError\u001b[0m: name 'company_name' is not defined"
     ]
    }
   ],
   "source": [
    "class Emp:\n",
    "    company_name=\"Kyaathi\"\n",
    "    company_address=\"vanam\"\n",
    "print company_name\n",
    "print company_address"
   ]
  },
  {
   "cell_type": "code",
   "execution_count": 8,
   "metadata": {},
   "outputs": [
    {
     "name": "stdout",
     "output_type": "stream",
     "text": [
      "Kyaathi\n",
      "vanam\n"
     ]
    }
   ],
   "source": [
    "class Emp:\n",
    "    company_name=\"Kyaathi\"\n",
    "    company_address=\"vanam\"\n",
    "print Emp.company_name\n",
    "print Emp.company_address"
   ]
  },
  {
   "cell_type": "code",
   "execution_count": 14,
   "metadata": {},
   "outputs": [
    {
     "name": "stdout",
     "output_type": "stream",
     "text": [
      "Kyaathi\n",
      "vanam\n"
     ]
    },
    {
     "ename": "TypeError",
     "evalue": "unbound method fun() must be called with Emp instance as first argument (got int instance instead)",
     "output_type": "error",
     "traceback": [
      "\u001b[0;31m---------------------------------------------------------------------------\u001b[0m",
      "\u001b[0;31mTypeError\u001b[0m                                 Traceback (most recent call last)",
      "\u001b[0;32m<ipython-input-14-553c69f60f40>\u001b[0m in \u001b[0;36m<module>\u001b[0;34m()\u001b[0m\n\u001b[1;32m      6\u001b[0m \u001b[0;32mprint\u001b[0m \u001b[0mEmp\u001b[0m\u001b[0;34m.\u001b[0m\u001b[0mcompany_name\u001b[0m\u001b[0;34m\u001b[0m\u001b[0m\n\u001b[1;32m      7\u001b[0m \u001b[0;32mprint\u001b[0m \u001b[0mEmp\u001b[0m\u001b[0;34m.\u001b[0m\u001b[0mcompany_address\u001b[0m\u001b[0;34m\u001b[0m\u001b[0m\n\u001b[0;32m----> 8\u001b[0;31m \u001b[0mEmp\u001b[0m\u001b[0;34m.\u001b[0m\u001b[0mfun\u001b[0m\u001b[0;34m(\u001b[0m\u001b[0;36m10\u001b[0m\u001b[0;34m)\u001b[0m\u001b[0;34m\u001b[0m\u001b[0m\n\u001b[0m",
      "\u001b[0;31mTypeError\u001b[0m: unbound method fun() must be called with Emp instance as first argument (got int instance instead)"
     ]
    }
   ],
   "source": [
    "class Emp:\n",
    "    company_name=\"Kyaathi\"\n",
    "    company_address=\"vanam\"\n",
    "    def fun(a):\n",
    "        print a\n",
    "print Emp.company_name\n",
    "print Emp.company_address\n",
    "Emp.fun(10)"
   ]
  },
  {
   "cell_type": "code",
   "execution_count": 15,
   "metadata": {},
   "outputs": [
    {
     "data": {
      "text/plain": [
       "32512"
      ]
     },
     "execution_count": 15,
     "metadata": {},
     "output_type": "execute_result"
    }
   ],
   "source": [
    "import os\n",
    "os.system(\"mail -s 'test' trianth.ya@gmail.com\")"
   ]
  },
  {
   "cell_type": "code",
   "execution_count": 10,
   "metadata": {},
   "outputs": [
    {
     "name": "stdout",
     "output_type": "stream",
     "text": [
      "a= <__main__.Emp instance at 0x7fadc44f9290>\n",
      "b= 30\n",
      "this is fun\n",
      "Kyaathi\n",
      "vanam\n",
      "Kyaathi\n",
      "a= <__main__.Emp instance at 0x7fadc44f9290>\n",
      "b= 30\n",
      "this is fun\n"
     ]
    }
   ],
   "source": [
    "class Emp:\n",
    "    company_name=\"Kyaathi\"\n",
    "    company_address=\"vanam\"\n",
    "    def fun(a,b):\n",
    "        print \"a=\",a\n",
    "        print \"b=\",b\n",
    "        print \"this is fun\"\n",
    "anil = Emp() #Emp() data object, anil is instance\n",
    "Emp.fun(anil,30)\n",
    "print Emp.company_name\n",
    "print Emp.company_address\n",
    "print anil.company_name\n",
    "anil.fun(30) #instance method"
   ]
  },
  {
   "cell_type": "code",
   "execution_count": 19,
   "metadata": {},
   "outputs": [
    {
     "name": "stdout",
     "output_type": "stream",
     "text": [
      "this is sal calc\n",
      "this is leave calc\n",
      "this is credits calc\n"
     ]
    }
   ],
   "source": [
    "class Emp:\n",
    "    def sal_cal(self):\n",
    "        print \"this is sal calc\"\n",
    "    def leave_cal(self):\n",
    "        print \"this is leave calc\"\n",
    "    def credits_cal(self):\n",
    "        print \"this is credits calc\"\n",
    "jay=Emp()\n",
    "# using class object\n",
    "jay.sal_cal()\n",
    "jay.leave_cal()\n",
    "jay.credits_cal()\n"
   ]
  },
  {
   "cell_type": "code",
   "execution_count": 30,
   "metadata": {},
   "outputs": [
    {
     "name": "stdout",
     "output_type": "stream",
     "text": [
      "192\n",
      "172\n",
      "10\n"
     ]
    }
   ],
   "source": [
    "class Emp:\n",
    "    def class_a(self,a):\n",
    "        print \"class A\"\n",
    "    def class_b(self,b):\n",
    "        print \"class B\"\n",
    "    def class_c(slef,c):\n",
    "        print \"class C\"\n",
    "IP=Emp()\n",
    "IP.class_a=\"192\"\n",
    "IP.class_b=\"172\"\n",
    "IP.class_c=\"10\"\n",
    "print IP.class_a\n",
    "print IP.class_b\n",
    "print IP.class_c\n",
    "    "
   ]
  },
  {
   "cell_type": "code",
   "execution_count": null,
   "metadata": {},
   "outputs": [],
   "source": [
    "#"
   ]
  }
 ],
 "metadata": {
  "kernelspec": {
   "display_name": "Python 2",
   "language": "python",
   "name": "python2"
  },
  "language_info": {
   "codemirror_mode": {
    "name": "ipython",
    "version": 2
   },
   "file_extension": ".py",
   "mimetype": "text/x-python",
   "name": "python",
   "nbconvert_exporter": "python",
   "pygments_lexer": "ipython2",
   "version": "2.7.15"
  }
 },
 "nbformat": 4,
 "nbformat_minor": 2
}
