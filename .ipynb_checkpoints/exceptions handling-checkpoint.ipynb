{
 "cells": [
  {
   "cell_type": "code",
   "execution_count": 5,
   "metadata": {},
   "outputs": [
    {
     "name": "stdout",
     "output_type": "stream",
     "text": [
      "program started:\n",
      "Enter a value: 10.9\n",
      "Enter b value: 20.9\n",
      "before converting a=10.9, b=20.9\n"
     ]
    },
    {
     "ename": "ValueError",
     "evalue": "invalid literal for int() with base 10: '10.9'",
     "output_type": "error",
     "traceback": [
      "\u001b[0;31m---------------------------------------------------------------------------\u001b[0m",
      "\u001b[0;31mValueError\u001b[0m                                Traceback (most recent call last)",
      "\u001b[0;32m<ipython-input-5-367b6d0ca730>\u001b[0m in \u001b[0;36m<module>\u001b[0;34m()\u001b[0m\n\u001b[1;32m      3\u001b[0m \u001b[0mb\u001b[0m\u001b[0;34m=\u001b[0m\u001b[0mraw_input\u001b[0m\u001b[0;34m(\u001b[0m\u001b[0;34m\"Enter b value: \"\u001b[0m\u001b[0;34m)\u001b[0m\u001b[0;34m\u001b[0m\u001b[0m\n\u001b[1;32m      4\u001b[0m \u001b[0;32mprint\u001b[0m \u001b[0;34m\"before converting a=%s, b=%s\"\u001b[0m\u001b[0;34m%\u001b[0m\u001b[0;34m(\u001b[0m\u001b[0ma\u001b[0m\u001b[0;34m,\u001b[0m\u001b[0mb\u001b[0m\u001b[0;34m)\u001b[0m\u001b[0;34m\u001b[0m\u001b[0m\n\u001b[0;32m----> 5\u001b[0;31m \u001b[0ma\u001b[0m\u001b[0;34m=\u001b[0m\u001b[0mint\u001b[0m\u001b[0;34m(\u001b[0m\u001b[0ma\u001b[0m\u001b[0;34m)\u001b[0m\u001b[0;34m\u001b[0m\u001b[0m\n\u001b[0m\u001b[1;32m      6\u001b[0m \u001b[0mb\u001b[0m\u001b[0;34m=\u001b[0m\u001b[0mint\u001b[0m\u001b[0;34m(\u001b[0m\u001b[0mb\u001b[0m\u001b[0;34m)\u001b[0m\u001b[0;34m\u001b[0m\u001b[0m\n\u001b[1;32m      7\u001b[0m \u001b[0;32mprint\u001b[0m \u001b[0;34m\"after converting a=%s, b=%s\"\u001b[0m\u001b[0;34m%\u001b[0m\u001b[0;34m(\u001b[0m\u001b[0ma\u001b[0m\u001b[0;34m,\u001b[0m\u001b[0mb\u001b[0m\u001b[0;34m)\u001b[0m\u001b[0;34m\u001b[0m\u001b[0m\n",
      "\u001b[0;31mValueError\u001b[0m: invalid literal for int() with base 10: '10.9'"
     ]
    }
   ],
   "source": [
    "#runtime error\n",
    "print \"program started:\"\n",
    "a=raw_input(\"Enter a value: \")\n",
    "b=raw_input(\"Enter b value: \")\n",
    "print \"before converting a=%s, b=%s\"%(a,b)\n",
    "a=int(a)\n",
    "b=int(b)\n",
    "print \"after converting a=%s, b=%s\"%(a,b)\n",
    "res=a/b\n",
    "print \"result=%s\"%(res)\n",
    "print \"other statement in the program\"\n",
    "print \"proram ended\""
   ]
  },
  {
   "cell_type": "code",
   "execution_count": 1,
   "metadata": {},
   "outputs": [
    {
     "name": "stdout",
     "output_type": "stream",
     "text": [
      "program started:\n",
      "Enter a value: 10\n",
      "Enter b value: 20\n",
      "before converting a=10, b=20\n",
      "after converting a=10.0, b=20.0\n",
      "result=0.5\n",
      "other statement in the program\n",
      "proram ended\n"
     ]
    }
   ],
   "source": [
    "print \"program started:\"\n",
    "a=raw_input(\"Enter a value: \")\n",
    "b=raw_input(\"Enter b value: \")\n",
    "print \"before converting a=%s, b=%s\"%(a,b)\n",
    "a=float(a)\n",
    "b=float(b)\n",
    "print \"after converting a=%s, b=%s\"%(a,b)\n",
    "res=a/b\n",
    "print \"result=%s\"%(res)\n",
    "print \"other statement in the program\"\n",
    "print \"proram ended\""
   ]
  },
  {
   "cell_type": "code",
   "execution_count": 8,
   "metadata": {},
   "outputs": [
    {
     "ename": "SyntaxError",
     "evalue": "EOL while scanning string literal (<ipython-input-8-3da8c3162587>, line 3)",
     "output_type": "error",
     "traceback": [
      "\u001b[0;36m  File \u001b[0;32m\"<ipython-input-8-3da8c3162587>\"\u001b[0;36m, line \u001b[0;32m3\u001b[0m\n\u001b[0;31m    print \"abcd\u001b[0m\n\u001b[0m              ^\u001b[0m\n\u001b[0;31mSyntaxError\u001b[0m\u001b[0;31m:\u001b[0m EOL while scanning string literal\n"
     ]
    }
   ],
   "source": [
    "#comilation error\n",
    "print \"adfadf\"\n",
    "print \"abcd\n",
    "print \"1234\""
   ]
  },
  {
   "cell_type": "code",
   "execution_count": 2,
   "metadata": {},
   "outputs": [
    {
     "name": "stdout",
     "output_type": "stream",
     "text": [
      "program started:\n",
      "Enter a value: 10\n",
      "Enter b value: 0\n",
      "before converting a=10, b=0\n",
      "after converting a=10.0, b=0.0\n",
      "soemthing went wrong\n"
     ]
    }
   ],
   "source": [
    "try:\n",
    "    print \"program started:\"\n",
    "    a=raw_input(\"Enter a value: \")\n",
    "    b=raw_input(\"Enter b value: \")\n",
    "    print \"before converting a=%s, b=%s\"%(a,b)\n",
    "    a=float(a)\n",
    "    b=float(b)\n",
    "    print \"after converting a=%s, b=%s\"%(a,b)\n",
    "    res=a/b\n",
    "    print \"result=%s\"%(res)\n",
    "    print \"other statement in the program\"\n",
    "    print \"proram ended\"\n",
    "except:\n",
    "    print \"soemthing went wrong\""
   ]
  },
  {
   "cell_type": "code",
   "execution_count": 3,
   "metadata": {},
   "outputs": [
    {
     "name": "stdout",
     "output_type": "stream",
     "text": [
      "program started:\n",
      "Enter a value: 10\n",
      "Enter b value: deer\n",
      "before converting a=10, b=deer\n",
      "soemthing went wrong\n",
      "main block after except\n"
     ]
    }
   ],
   "source": [
    "try:\n",
    "    print \"program started:\"\n",
    "    a=raw_input(\"Enter a value: \")\n",
    "    b=raw_input(\"Enter b value: \")\n",
    "    print \"before converting a=%s, b=%s\"%(a,b)\n",
    "    a=float(a)\n",
    "    b=float(b)\n",
    "    print \"after converting a=%s, b=%s\"%(a,b)\n",
    "    res=a/b\n",
    "    print \"result=%s\"%(res)\n",
    "    print \"other statement in the program\"\n",
    "    print \"proram ended\"\n",
    "except:\n",
    "    print \"soemthing went wrong\"\n",
    "print \"main block after except\""
   ]
  },
  {
   "cell_type": "code",
   "execution_count": 4,
   "metadata": {},
   "outputs": [
    {
     "name": "stdout",
     "output_type": "stream",
     "text": [
      "program started:\n",
      "Enter a value: 10\n",
      "Enter b value: 20\n",
      "before converting a=10, b=20\n",
      "after converting a=10.0, b=20.0\n",
      "result=0.5\n",
      "other statement in the program\n",
      "proram ended\n",
      "main block after except\n"
     ]
    }
   ],
   "source": [
    "print \"program started:\"\n",
    "a=raw_input(\"Enter a value: \")\n",
    "b=raw_input(\"Enter b value: \")\n",
    "print \"before converting a=%s, b=%s\"%(a,b)\n",
    "try:\n",
    "    a=float(a)\n",
    "    b=float(b)\n",
    "    print \"after converting a=%s, b=%s\"%(a,b)\n",
    "    res=a/b\n",
    "    print \"result=%s\"%(res)\n",
    "    print \"other statement in the program\"\n",
    "    print \"proram ended\"\n",
    "except:\n",
    "    print \"soemthing went wrong\"\n",
    "print \"main block after except\""
   ]
  },
  {
   "cell_type": "code",
   "execution_count": null,
   "metadata": {},
   "outputs": [],
   "source": []
  }
 ],
 "metadata": {
  "kernelspec": {
   "display_name": "Python 2",
   "language": "python",
   "name": "python2"
  },
  "language_info": {
   "codemirror_mode": {
    "name": "ipython",
    "version": 2
   },
   "file_extension": ".py",
   "mimetype": "text/x-python",
   "name": "python",
   "nbconvert_exporter": "python",
   "pygments_lexer": "ipython2",
   "version": "2.7.15"
  }
 },
 "nbformat": 4,
 "nbformat_minor": 2
}
