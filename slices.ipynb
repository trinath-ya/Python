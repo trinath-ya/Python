{
 "cells": [
  {
   "cell_type": "code",
   "execution_count": 4,
   "metadata": {},
   "outputs": [
    {
     "name": "stdout",
     "output_type": "stream",
     "text": [
      "orp no\n"
     ]
    }
   ],
   "source": [
    "                                                                                                                                                                                                                                s=\"python program is touch\"\n",
    "print s[9:3:-1]"
   ]
  },
  {
   "cell_type": "code",
   "execution_count": 2,
   "metadata": {},
   "outputs": [
    {
     "name": "stdout",
     "output_type": "stream",
     "text": [
      "thon\n"
     ]
    }
   ],
   "source": [
    "s=\"python program is touch\"\n",
    "print s[2:6:1]"
   ]
  },
  {
   "cell_type": "code",
   "execution_count": 5,
   "metadata": {},
   "outputs": [
    {
     "name": "stdout",
     "output_type": "stream",
     "text": [
      "rp noh\n"
     ]
    }
   ],
   "source": [
    "s=\"python program is touch\"\n",
    "print s[8:2:-1]"
   ]
  },
  {
   "cell_type": "code",
   "execution_count": 7,
   "metadata": {},
   "outputs": [
    {
     "name": "stdout",
     "output_type": "stream",
     "text": [
      "\n"
     ]
    }
   ],
   "source": []
  },
  {
   "cell_type": "code",
   "execution_count": 58,
   "metadata": {},
   "outputs": [
    {
     "name": "stdout",
     "output_type": "stream",
     "text": [
      "rpn oh\n"
     ]
    }
   ],
   "source": [
    "s=\"pytho nprogram is tough: 1234\"\n",
    "print s[8:2:-1]"
   ]
  },
  {
   "cell_type": "code",
   "execution_count": 9,
   "metadata": {},
   "outputs": [
    {
     "name": "stdout",
     "output_type": "stream",
     "text": [
      "noht\n"
     ]
    }
   ],
   "source": [
    "s=\"python program is tough: 1234\"\n",
    "print s[5:1:-1]"
   ]
  },
  {
   "cell_type": "code",
   "execution_count": 95,
   "metadata": {},
   "outputs": [
    {
     "name": "stdout",
     "output_type": "stream",
     "text": [
      "Lenght: 16\n",
      "Code: 1234\n"
     ]
    }
   ],
   "source": [
    "#from left it starts from 0 and from right it starts from -1\n",
    "#actually 1 is 13th index and 4 is 15th index but as it starting from 0 from left 12th index index is 1 and 16th is 4\n",
    "#\n",
    "s=\"python_code:1234\"\n",
    "print \"Lenght:\",len(s)\n",
    "print \"Code:\",s[12:16:1]"
   ]
  },
  {
   "cell_type": "code",
   "execution_count": 107,
   "metadata": {},
   "outputs": [
    {
     "name": "stdout",
     "output_type": "stream",
     "text": [
      "python_margorp\n"
     ]
    }
   ],
   "source": [
    "s=\"python_program\"\n",
    "print s[:7:1]+s[:6:-1]"
   ]
  },
  {
   "cell_type": "code",
   "execution_count": 6,
   "metadata": {},
   "outputs": [
    {
     "ename": "IndentationError",
     "evalue": "unexpected indent (<ipython-input-6-2d1922be1562>, line 5)",
     "output_type": "error",
     "traceback": [
      "\u001b[0;36m  File \u001b[0;32m\"<ipython-input-6-2d1922be1562>\"\u001b[0;36m, line \u001b[0;32m5\u001b[0m\n\u001b[0;31m    if sub_oc < n:\u001b[0m\n\u001b[0m    ^\u001b[0m\n\u001b[0;31mIndentationError\u001b[0m\u001b[0;31m:\u001b[0m unexpected indent\n"
     ]
    }
   ],
   "source": [
    "s=\"opython is purely object oriented programming language:\"\n",
    "n=int(raw_input(\"Enter the value: \"))\n",
    "sub=raw_input(\"Enter sub string: \")\n",
    "sub_oc=s.count(\"sub\")\n",
    "    if sub_oc < n:\n",
    "        print \"exeeding the number occournace: %s\"%sub_oc\n",
    "else:\n",
    "    if oc_index=-1\n",
    "    for i in range(n):\n",
    "        oc_index=s.find(\"sub\",oc_index+1)\n",
    "    print oc_index\n",
    "#for i in s:\n",
    "#    print s.count(sub)\n",
    "#    break\n",
    "#print s[:r:1]"
   ]
  },
  {
   "cell_type": "code",
   "execution_count": null,
   "metadata": {},
   "outputs": [],
   "source": []
  }
 ],
 "metadata": {
  "kernelspec": {
   "display_name": "Python 2",
   "language": "python",
   "name": "python2"
  },
  "language_info": {
   "codemirror_mode": {
    "name": "ipython",
    "version": 2
   },
   "file_extension": ".py",
   "mimetype": "text/x-python",
   "name": "python",
   "nbconvert_exporter": "python",
   "pygments_lexer": "ipython2",
   "version": "2.7.15"
  }
 },
 "nbformat": 4,
 "nbformat_minor": 2
}
